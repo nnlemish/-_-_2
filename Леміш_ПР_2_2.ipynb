{
 "cells": [
  {
   "cell_type": "code",
   "execution_count": 1,
   "id": "b1b77dfc",
   "metadata": {},
   "outputs": [],
   "source": [
    "import pandas as pd"
   ]
  },
  {
   "cell_type": "code",
   "execution_count": 2,
   "id": "d422fac6",
   "metadata": {},
   "outputs": [],
   "source": [
    "#Прочитайте csv файл (метод read_csv) \n",
    "\n",
    "data = pd.read_csv(r'C:\\Users\\admin\\Desktop\\Настя\\bestsellers with categories.csv')"
   ]
  },
  {
   "cell_type": "code",
   "execution_count": 3,
   "id": "b61d1c38",
   "metadata": {},
   "outputs": [
    {
     "data": {
      "text/html": [
       "<div>\n",
       "<style scoped>\n",
       "    .dataframe tbody tr th:only-of-type {\n",
       "        vertical-align: middle;\n",
       "    }\n",
       "\n",
       "    .dataframe tbody tr th {\n",
       "        vertical-align: top;\n",
       "    }\n",
       "\n",
       "    .dataframe thead th {\n",
       "        text-align: right;\n",
       "    }\n",
       "</style>\n",
       "<table border=\"1\" class=\"dataframe\">\n",
       "  <thead>\n",
       "    <tr style=\"text-align: right;\">\n",
       "      <th></th>\n",
       "      <th>Name</th>\n",
       "      <th>Author</th>\n",
       "      <th>User Rating</th>\n",
       "      <th>Reviews</th>\n",
       "      <th>Price</th>\n",
       "      <th>Year</th>\n",
       "      <th>Genre</th>\n",
       "    </tr>\n",
       "  </thead>\n",
       "  <tbody>\n",
       "    <tr>\n",
       "      <th>0</th>\n",
       "      <td>10-Day Green Smoothie Cleanse</td>\n",
       "      <td>JJ Smith</td>\n",
       "      <td>4.7</td>\n",
       "      <td>17350</td>\n",
       "      <td>8</td>\n",
       "      <td>2016</td>\n",
       "      <td>Non Fiction</td>\n",
       "    </tr>\n",
       "    <tr>\n",
       "      <th>1</th>\n",
       "      <td>11/22/63: A Novel</td>\n",
       "      <td>Stephen King</td>\n",
       "      <td>4.6</td>\n",
       "      <td>2052</td>\n",
       "      <td>22</td>\n",
       "      <td>2011</td>\n",
       "      <td>Fiction</td>\n",
       "    </tr>\n",
       "    <tr>\n",
       "      <th>2</th>\n",
       "      <td>12 Rules for Life: An Antidote to Chaos</td>\n",
       "      <td>Jordan B. Peterson</td>\n",
       "      <td>4.7</td>\n",
       "      <td>18979</td>\n",
       "      <td>15</td>\n",
       "      <td>2018</td>\n",
       "      <td>Non Fiction</td>\n",
       "    </tr>\n",
       "    <tr>\n",
       "      <th>3</th>\n",
       "      <td>1984 (Signet Classics)</td>\n",
       "      <td>George Orwell</td>\n",
       "      <td>4.7</td>\n",
       "      <td>21424</td>\n",
       "      <td>6</td>\n",
       "      <td>2017</td>\n",
       "      <td>Fiction</td>\n",
       "    </tr>\n",
       "    <tr>\n",
       "      <th>4</th>\n",
       "      <td>5,000 Awesome Facts (About Everything!) (Natio...</td>\n",
       "      <td>National Geographic Kids</td>\n",
       "      <td>4.8</td>\n",
       "      <td>7665</td>\n",
       "      <td>12</td>\n",
       "      <td>2019</td>\n",
       "      <td>Non Fiction</td>\n",
       "    </tr>\n",
       "    <tr>\n",
       "      <th>5</th>\n",
       "      <td>A Dance with Dragons (A Song of Ice and Fire)</td>\n",
       "      <td>George R. R. Martin</td>\n",
       "      <td>4.4</td>\n",
       "      <td>12643</td>\n",
       "      <td>11</td>\n",
       "      <td>2011</td>\n",
       "      <td>Fiction</td>\n",
       "    </tr>\n",
       "    <tr>\n",
       "      <th>6</th>\n",
       "      <td>A Game of Thrones / A Clash of Kings / A Storm...</td>\n",
       "      <td>George R. R. Martin</td>\n",
       "      <td>4.7</td>\n",
       "      <td>19735</td>\n",
       "      <td>30</td>\n",
       "      <td>2014</td>\n",
       "      <td>Fiction</td>\n",
       "    </tr>\n",
       "    <tr>\n",
       "      <th>7</th>\n",
       "      <td>A Gentleman in Moscow: A Novel</td>\n",
       "      <td>Amor Towles</td>\n",
       "      <td>4.7</td>\n",
       "      <td>19699</td>\n",
       "      <td>15</td>\n",
       "      <td>2017</td>\n",
       "      <td>Fiction</td>\n",
       "    </tr>\n",
       "    <tr>\n",
       "      <th>8</th>\n",
       "      <td>A Higher Loyalty: Truth, Lies, and Leadership</td>\n",
       "      <td>James Comey</td>\n",
       "      <td>4.7</td>\n",
       "      <td>5983</td>\n",
       "      <td>3</td>\n",
       "      <td>2018</td>\n",
       "      <td>Non Fiction</td>\n",
       "    </tr>\n",
       "    <tr>\n",
       "      <th>9</th>\n",
       "      <td>A Man Called Ove: A Novel</td>\n",
       "      <td>Fredrik Backman</td>\n",
       "      <td>4.6</td>\n",
       "      <td>23848</td>\n",
       "      <td>8</td>\n",
       "      <td>2016</td>\n",
       "      <td>Fiction</td>\n",
       "    </tr>\n",
       "  </tbody>\n",
       "</table>\n",
       "</div>"
      ],
      "text/plain": [
       "                                                Name  \\\n",
       "0                      10-Day Green Smoothie Cleanse   \n",
       "1                                  11/22/63: A Novel   \n",
       "2            12 Rules for Life: An Antidote to Chaos   \n",
       "3                             1984 (Signet Classics)   \n",
       "4  5,000 Awesome Facts (About Everything!) (Natio...   \n",
       "5      A Dance with Dragons (A Song of Ice and Fire)   \n",
       "6  A Game of Thrones / A Clash of Kings / A Storm...   \n",
       "7                     A Gentleman in Moscow: A Novel   \n",
       "8      A Higher Loyalty: Truth, Lies, and Leadership   \n",
       "9                          A Man Called Ove: A Novel   \n",
       "\n",
       "                     Author  User Rating  Reviews  Price  Year        Genre  \n",
       "0                  JJ Smith          4.7    17350      8  2016  Non Fiction  \n",
       "1              Stephen King          4.6     2052     22  2011      Fiction  \n",
       "2        Jordan B. Peterson          4.7    18979     15  2018  Non Fiction  \n",
       "3             George Orwell          4.7    21424      6  2017      Fiction  \n",
       "4  National Geographic Kids          4.8     7665     12  2019  Non Fiction  \n",
       "5       George R. R. Martin          4.4    12643     11  2011      Fiction  \n",
       "6       George R. R. Martin          4.7    19735     30  2014      Fiction  \n",
       "7               Amor Towles          4.7    19699     15  2017      Fiction  \n",
       "8               James Comey          4.7     5983      3  2018  Non Fiction  \n",
       "9           Fredrik Backman          4.6    23848      8  2016      Fiction  "
      ]
     },
     "execution_count": 3,
     "metadata": {},
     "output_type": "execute_result"
    }
   ],
   "source": [
    "#Виведіть перші 10 рядків (метод head) \n",
    "\n",
    "data.head(10)"
   ]
  },
  {
   "cell_type": "code",
   "execution_count": 5,
   "id": "0aa828f2",
   "metadata": {},
   "outputs": [
    {
     "name": "stdout",
     "output_type": "stream",
     "text": [
      "(550, 7)\n",
      "Датасет зберігає дані про  550 книг\n"
     ]
    }
   ],
   "source": [
    "#Виведіть розміри датасету (метод shape) \n",
    "\n",
    "size = data.shape\n",
    "print(size)\n",
    "print('Датасет зберігає дані про ', size[0], 'книг')"
   ]
  },
  {
   "cell_type": "code",
   "execution_count": 7,
   "id": "520d4c8a",
   "metadata": {},
   "outputs": [
    {
     "name": "stdout",
     "output_type": "stream",
     "text": [
      "                                                  name  \\\n",
      "0                        10-Day Green Smoothie Cleanse   \n",
      "1                                    11/22/63: A Novel   \n",
      "2              12 Rules for Life: An Antidote to Chaos   \n",
      "3                               1984 (Signet Classics)   \n",
      "4    5,000 Awesome Facts (About Everything!) (Natio...   \n",
      "..                                                 ...   \n",
      "545       Wrecking Ball (Diary of a Wimpy Kid Book 14)   \n",
      "546  You Are a Badass: How to Stop Doubting Your Gr...   \n",
      "547  You Are a Badass: How to Stop Doubting Your Gr...   \n",
      "548  You Are a Badass: How to Stop Doubting Your Gr...   \n",
      "549  You Are a Badass: How to Stop Doubting Your Gr...   \n",
      "\n",
      "                       author  user_rating  reviews  price  year        genre  \n",
      "0                    JJ Smith          4.7    17350      8  2016  Non Fiction  \n",
      "1                Stephen King          4.6     2052     22  2011      Fiction  \n",
      "2          Jordan B. Peterson          4.7    18979     15  2018  Non Fiction  \n",
      "3               George Orwell          4.7    21424      6  2017      Fiction  \n",
      "4    National Geographic Kids          4.8     7665     12  2019  Non Fiction  \n",
      "..                        ...          ...      ...    ...   ...          ...  \n",
      "545               Jeff Kinney          4.9     9413      8  2019      Fiction  \n",
      "546               Jen Sincero          4.7    14331      8  2016  Non Fiction  \n",
      "547               Jen Sincero          4.7    14331      8  2017  Non Fiction  \n",
      "548               Jen Sincero          4.7    14331      8  2018  Non Fiction  \n",
      "549               Jen Sincero          4.7    14331      8  2019  Non Fiction  \n",
      "\n",
      "[550 rows x 7 columns]\n"
     ]
    }
   ],
   "source": [
    "#Змініть назви всіх колонок: назва з маленької букви, без пробілів через підкреслення. \n",
    "\n",
    "data.columns = ['name', 'author', 'user_rating', 'reviews', 'price', 'year', 'genre']\n",
    "print(data)"
   ]
  },
  {
   "cell_type": "code",
   "execution_count": 10,
   "id": "5c60683a",
   "metadata": {},
   "outputs": [
    {
     "name": "stdout",
     "output_type": "stream",
     "text": [
      "Кількість пропусків у кожному зі стовпців:  name           0\n",
      "author         0\n",
      "user_rating    0\n",
      "reviews        0\n",
      "price          0\n",
      "year           0\n",
      "genre          0\n",
      "dtype: int64\n",
      "Пропусків немає\n",
      "Пропусків немає\n",
      "Пропусків немає\n",
      "Пропусків немає\n",
      "Пропусків немає\n",
      "Пропусків немає\n",
      "Пропусків немає\n"
     ]
    }
   ],
   "source": [
    "#Вивести кількість пропусків у кожному стовпчику. \n",
    "\n",
    "isna = data.isna().sum()\n",
    "print('Кількість пропусків у кожному зі стовпців: ', isna)\n",
    "\n",
    "for i in isna:\n",
    "    if i>1:\n",
    "        print('Пропуски є')\n",
    "    else:\n",
    "        print('Пропусків немає')"
   ]
  },
  {
   "cell_type": "code",
   "execution_count": 11,
   "id": "cbcc14b2",
   "metadata": {},
   "outputs": [
    {
     "name": "stdout",
     "output_type": "stream",
     "text": [
      "Унікальні жанри: ['Non Fiction' 'Fiction']\n"
     ]
    }
   ],
   "source": [
    "#За допомогою методу unique  перевірте. Які є унікальні жанри в стовпці genre  \n",
    "\n",
    "unique_genres = data['genre'].unique()\n",
    "print('Унікальні жанри:', unique_genres)"
   ]
  },
  {
   "cell_type": "code",
   "execution_count": 13,
   "id": "8c5a83d1",
   "metadata": {},
   "outputs": [
    {
     "name": "stdout",
     "output_type": "stream",
     "text": [
      "Максимальна ціна:  105\n",
      "Мінімальна ціна:  0\n",
      "Середня ціна:  13.1\n",
      "Медіанна ціна:  11.0\n"
     ]
    }
   ],
   "source": [
    "#Визначте максимальну, мінімальну, медіанну ціну за допомогою методів  max, min, mean, median \n",
    "\n",
    "max_price = data['price'].max()\n",
    "min_price = data['price'].min()\n",
    "mean_price = data['price'].mean()\n",
    "median_price = data['price'].median()\n",
    "\n",
    "print('Максимальна ціна: ', max_price)\n",
    "print('Мінімальна ціна: ', min_price)\n",
    "print('Середня ціна: ', mean_price)\n",
    "print('Медіанна ціна: ', median_price)"
   ]
  },
  {
   "cell_type": "code",
   "execution_count": 19,
   "id": "241839f3",
   "metadata": {},
   "outputs": [
    {
     "name": "stdout",
     "output_type": "stream",
     "text": [
      "Найвищий рейтинг книги:  4.9\n",
      "52 книг мають такий рейтинг\n",
      "Найбільше відгуків має книга 10-Day Green Smoothie Cleanse\n",
      "Найдорожча книга, що потрапила у Топ-50 у 2010 році коштувала 14\n",
      "21 книг жанру Fiction потрапили у топ-50 у 2012 році\n",
      "Кількість книг з рейтингом 4.9 у 2010 та 2011 роках: 1\n"
     ]
    }
   ],
   "source": [
    "#Виконайте наступні завдання з пошуку і сортування даних \n",
    "\n",
    "#Який рейтинг у датасеті найвищий? \n",
    "\n",
    "max_rating = data['user_rating'].max()\n",
    "print('Найвищий рейтинг книги: ', max_rating)\n",
    "\n",
    "#Скільки книг мають такий рейтинг?  \n",
    "\n",
    "books = data[data['user_rating'] == max_rating].shape[0]\n",
    "print(books, 'книг мають такий рейтинг')\n",
    "\n",
    "#Яка книга має найбільше відгуків?  \n",
    "\n",
    "max_reviews = data.sort_values('reviews', ascending = False)\n",
    "print('Найбільше відгуків має книга', max_reviews['name'][0])\n",
    "\n",
    "#З тих книг, що потрапили до Топ-50 у 2010 році, яка книга найдорожча ? \n",
    "\n",
    "max_price2010 = data[data.year == 2010].sort_values('reviews', ascending = False)\n",
    "print('Найдорожча книга, що потрапила у Топ-50 у 2010 році коштувала', max_price2010['price'].iloc[0])\n",
    "\n",
    "#Скільки книг жанру Fiction потрапили до Топ-50 у 2012 році  \n",
    "\n",
    "top2012 = data[data.year == 2012].head(50)\n",
    "fiction = top2012[top2012['genre'] == 'Fiction'].shape[0]\n",
    "print(fiction, 'книг жанру Fiction потрапили у топ-50 у 2012 році')\n",
    "\n",
    "#Скільки книг з рейтингом 4.9 потрапило до рейтингу у 2010 та 2011 роках (використовуйте | або метод isin)?  \n",
    "\n",
    "books_2010 = data[(data['user_rating'] == 4.9) & (data['year'].isin([2010, 2011]))]\n",
    "count_books = books_2010.shape[0]\n",
    "print('Кількість книг з рейтингом 4.9 у 2010 та 2011 роках:', count_books)"
   ]
  },
  {
   "cell_type": "code",
   "execution_count": 20,
   "id": "c6e74c1c",
   "metadata": {},
   "outputs": [
    {
     "name": "stdout",
     "output_type": "stream",
     "text": [
      "Максимальна та мінімальна ціна для кожного жанру:\n",
      "             max_price  min_price\n",
      "genre                            \n",
      "Fiction             82          0\n",
      "Non Fiction        105          0\n"
     ]
    }
   ],
   "source": [
    "#Вивести максимальну і  мінімальну ціну для жанру Fiction I NonFiction (за допомогою методів  groupby та agg, для підрахунку мінімальних та максимальних значень використовуйте max та min). Використовуйте тількі потрібні вам стовпці. \n",
    "\n",
    "result = data.groupby('genre').agg({'price': ['max', 'min']})\n",
    "result.columns = ['max_price', 'min_price']\n",
    "\n",
    "print('Максимальна та мінімальна ціна для кожного жанру:')\n",
    "print(result)"
   ]
  },
  {
   "cell_type": "code",
   "execution_count": null,
   "id": "1f0f87b9",
   "metadata": {},
   "outputs": [],
   "source": []
  }
 ],
 "metadata": {
  "kernelspec": {
   "display_name": "Python 3 (ipykernel)",
   "language": "python",
   "name": "python3"
  },
  "language_info": {
   "codemirror_mode": {
    "name": "ipython",
    "version": 3
   },
   "file_extension": ".py",
   "mimetype": "text/x-python",
   "name": "python",
   "nbconvert_exporter": "python",
   "pygments_lexer": "ipython3",
   "version": "3.9.13"
  }
 },
 "nbformat": 4,
 "nbformat_minor": 5
}
